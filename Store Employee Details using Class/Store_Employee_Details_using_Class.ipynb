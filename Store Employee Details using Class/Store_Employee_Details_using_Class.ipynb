{
  "cells": [
    {
      "cell_type": "code",
      "execution_count": 1,
      "id": "dbdd2573",
      "metadata": {
        "id": "dbdd2573",
        "outputId": "c0b59671-20f8-4aea-f13c-41ed172bbb9b",
        "colab": {
          "base_uri": "https://localhost:8080/"
        }
      },
      "outputs": [
        {
          "output_type": "stream",
          "name": "stdout",
          "text": [
            "There are 4 employees\n",
            "**Information about Employee**\n",
            "Name: Alpha , Position: HR , Salary: 30000\n",
            "Name: Bakarr , Position: Manager , Salary: 90000\n",
            "Name: Messi , Position: Programmer , Salary: 50000\n",
            "Name: Salah , Position: Engineer , Salary: 65000\n"
          ]
        }
      ],
      "source": [
        "class Employee:\n",
        "    count = 0\n",
        "    def __init__(self, name, position, salary):\n",
        "        self.name=name\n",
        "        self.position=position\n",
        "        self.salary=salary\n",
        "        Employee.count+=1\n",
        "    def displayCount(self):\n",
        "        print(\"There are %d employees\" % Employee.count)\n",
        "    def displayDetails(self):\n",
        "        print(\"Name:\", self.name, \", Position:\", self.position, \", Salary:\", self.salary)\n",
        "        \n",
        "emp1 = Employee(\"Alpha\", \"HR\", 30000)\n",
        "emp2 = Employee(\"Bakarr\", \"Manager\", 90000)\n",
        "emp3 = Employee(\"Messi\", \"Programmer\", 50000)\n",
        "emp4 = Employee(\"Salah\", \"Engineer\",65000)\n",
        "\n",
        "emp4.displayCount() #Count of employees\n",
        "\n",
        "print(\"**Information about Employee**\")\n",
        "emp1.displayDetails()\n",
        "emp2.displayDetails()\n",
        "emp3.displayDetails()\n",
        "emp4.displayDetails()"
      ]
    },
    {
      "cell_type": "code",
      "execution_count": null,
      "id": "2291a36b",
      "metadata": {
        "id": "2291a36b"
      },
      "outputs": [],
      "source": []
    }
  ],
  "metadata": {
    "kernelspec": {
      "display_name": "Python 3",
      "language": "python",
      "name": "python3"
    },
    "language_info": {
      "codemirror_mode": {
        "name": "ipython",
        "version": 3
      },
      "file_extension": ".py",
      "mimetype": "text/x-python",
      "name": "python",
      "nbconvert_exporter": "python",
      "pygments_lexer": "ipython3",
      "version": "3.8.8"
    },
    "colab": {
      "provenance": []
    }
  },
  "nbformat": 4,
  "nbformat_minor": 5
}